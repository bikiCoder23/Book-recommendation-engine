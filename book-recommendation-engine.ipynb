{
 "cells": [
  {
   "cell_type": "markdown",
   "id": "f7545f9b",
   "metadata": {},
   "source": [
    "# Popularity + Item-Item Collaborative Filtering"
   ]
  },
  {
   "cell_type": "markdown",
   "id": "7a72e871",
   "metadata": {},
   "source": [
    "### Import libraries"
   ]
  },
  {
   "cell_type": "code",
   "execution_count": 1,
   "id": "8c210c24",
   "metadata": {},
   "outputs": [],
   "source": [
    "import numpy as np\n",
    "import pandas as pd\n",
    "from sklearn.metrics.pairwise import cosine_similarity\n",
    "import pickle"
   ]
  },
  {
   "cell_type": "markdown",
   "id": "5f158084",
   "metadata": {},
   "source": [
    "### Import Datasets"
   ]
  },
  {
   "cell_type": "code",
   "execution_count": 2,
   "id": "f1d3de96",
   "metadata": {},
   "outputs": [
    {
     "name": "stderr",
     "output_type": "stream",
     "text": [
      "C:\\Users\\USER\\AppData\\Local\\Temp\\ipykernel_27412\\2285880890.py:1: DtypeWarning: Columns (3) have mixed types. Specify dtype option on import or set low_memory=False.\n",
      "  books = pd.read_csv('Books.csv')\n"
     ]
    }
   ],
   "source": [
    "books = pd.read_csv('Books.csv')\n",
    "ratings = pd.read_csv('Ratings.csv')"
   ]
  },
  {
   "cell_type": "markdown",
   "id": "a5acdda6",
   "metadata": {},
   "source": [
    "## Top 50 books based on Popularity"
   ]
  },
  {
   "cell_type": "markdown",
   "id": "3e71ec78",
   "metadata": {},
   "source": [
    "### Merging the above two data sets on basis of 'ISBN' column"
   ]
  },
  {
   "cell_type": "code",
   "execution_count": 3,
   "id": "ae9d59b8",
   "metadata": {},
   "outputs": [],
   "source": [
    "name_rating_df = books.merge(ratings,on='ISBN')"
   ]
  },
  {
   "cell_type": "code",
   "execution_count": 4,
   "id": "b986f146",
   "metadata": {},
   "outputs": [],
   "source": [
    "num_rating_df = name_rating_df.groupby('Book-Title').count()['Book-Rating'].reset_index()\n",
    "num_rating_df.rename(columns = {'Book-Rating':'User-Count'}, inplace=True)"
   ]
  },
  {
   "cell_type": "code",
   "execution_count": 5,
   "id": "2cdafd9f",
   "metadata": {},
   "outputs": [],
   "source": [
    "avg_rating_df = name_rating_df.groupby('Book-Title').mean()['Book-Rating'].reset_index()\n",
    "avg_rating_df.rename(columns = {'Book-Rating':'Avg-Rating'}, inplace=True)"
   ]
  },
  {
   "cell_type": "markdown",
   "id": "e3070f91",
   "metadata": {},
   "source": [
    "### Merging the above two data sets on basis of 'Book-Title' column"
   ]
  },
  {
   "cell_type": "code",
   "execution_count": 6,
   "id": "dcce86e6",
   "metadata": {},
   "outputs": [],
   "source": [
    "popularity_df = num_rating_df.merge(avg_rating_df,on = 'Book-Title')"
   ]
  },
  {
   "cell_type": "markdown",
   "id": "53238aa2",
   "metadata": {},
   "source": [
    "### Droping books rated by less 400 user and sorting on the basis of 'Avg-Rating'"
   ]
  },
  {
   "cell_type": "code",
   "execution_count": 7,
   "id": "d1d0b4f3",
   "metadata": {},
   "outputs": [],
   "source": [
    "popularity_df = popularity_df[popularity_df['User-Count']>=400].sort_values('Avg-Rating',ascending = False).head(52)"
   ]
  },
  {
   "cell_type": "code",
   "execution_count": 8,
   "id": "7f15b5cf",
   "metadata": {},
   "outputs": [],
   "source": [
    "popularity_df = popularity_df.merge(books, on = 'Book-Title').drop_duplicates('Book-Title')[['Book-Title','Book-Author','User-Count','Publisher','Avg-Rating','Image-URL-M']]"
   ]
  },
  {
   "cell_type": "markdown",
   "id": "0b3afe24",
   "metadata": {},
   "source": [
    "## Item-item Collab Filtering approach"
   ]
  },
  {
   "cell_type": "markdown",
   "id": "80ad4dda",
   "metadata": {},
   "source": [
    "### Filtering user on basis of number of Book-rated by them"
   ]
  },
  {
   "cell_type": "code",
   "execution_count": 9,
   "id": "7666fd91",
   "metadata": {},
   "outputs": [],
   "source": [
    "user_filter = name_rating_df.groupby('User-ID').count()['Book-Rating'] > 200\n",
    "selected_user = user_filter[user_filter].index"
   ]
  },
  {
   "cell_type": "code",
   "execution_count": 10,
   "id": "667df977",
   "metadata": {},
   "outputs": [],
   "source": [
    "filtered_user_df = name_rating_df[name_rating_df['User-ID'].isin(selected_user)]"
   ]
  },
  {
   "cell_type": "markdown",
   "id": "c911c2f8",
   "metadata": {},
   "source": [
    "### Filtering books on basis of number of User rated them"
   ]
  },
  {
   "cell_type": "code",
   "execution_count": 11,
   "id": "e4581b76",
   "metadata": {},
   "outputs": [],
   "source": [
    "book_filter = filtered_user_df.groupby('Book-Title').count()['Book-Rating'] >= 50 \n",
    "selected_book = book_filter[book_filter].index"
   ]
  },
  {
   "cell_type": "code",
   "execution_count": 12,
   "id": "cbd2d9a5",
   "metadata": {},
   "outputs": [],
   "source": [
    "filtered_book_df = filtered_user_df[filtered_user_df['Book-Title'].isin(selected_book)]"
   ]
  },
  {
   "cell_type": "markdown",
   "id": "0e0cd2c1",
   "metadata": {},
   "source": [
    "### Selected Books"
   ]
  },
  {
   "cell_type": "code",
   "execution_count": 13,
   "id": "e73e55e2",
   "metadata": {},
   "outputs": [],
   "source": [
    "final_rating_df = filtered_book_df.pivot_table(index='Book-Title', columns='User-ID', values='Book-Rating')"
   ]
  },
  {
   "cell_type": "code",
   "execution_count": 14,
   "id": "7fcabe81",
   "metadata": {},
   "outputs": [],
   "source": [
    "final_rating_df.fillna(0,inplace=True)"
   ]
  },
  {
   "cell_type": "markdown",
   "id": "2f91c232",
   "metadata": {},
   "source": [
    "## Calculating similarity scores using cosine similarity"
   ]
  },
  {
   "cell_type": "code",
   "execution_count": 15,
   "id": "58c2f43e",
   "metadata": {},
   "outputs": [],
   "source": [
    "similarity_scores = cosine_similarity(final_rating_df)"
   ]
  },
  {
   "cell_type": "markdown",
   "id": "7b96b891",
   "metadata": {},
   "source": [
    "## Recommendations based on similarity scores"
   ]
  },
  {
   "cell_type": "code",
   "execution_count": 16,
   "id": "acf79397",
   "metadata": {},
   "outputs": [],
   "source": [
    "def recommend(book_name):\n",
    "    book_index = np.where(final_rating_df.index == book_name)[0][0]\n",
    "    book_list = sorted(list(enumerate(similarity_scores[book_index])),reverse=True,key = lambda x: x[1])[1:5]\n",
    "    \n",
    "    data = []\n",
    "    for i in book_list:\n",
    "        item = []\n",
    "        temp_df = books[books['Book-Title'] == final_rating_df.index[i[0]]]\n",
    "        item.extend(list(temp_df.drop_duplicates('Book-Title')['Book-Title'].values))\n",
    "        item.extend(list(temp_df.drop_duplicates('Book-Title')['Book-Author'].values))\n",
    "        item.extend(list(temp_df.drop_duplicates('Book-Title')['Image-URL-M'].values))\n",
    "        \n",
    "        data.append(item)\n",
    "    \n",
    "    return data"
   ]
  },
  {
   "cell_type": "code",
   "execution_count": 17,
   "id": "d919c9e2",
   "metadata": {},
   "outputs": [
    {
     "data": {
      "text/plain": [
       "[['Nights in Rodanthe',\n",
       "  'Nicholas Sparks',\n",
       "  'http://images.amazon.com/images/P/0446531332.01.MZZZZZZZ.jpg'],\n",
       " ['The Mulberry Tree',\n",
       "  'Jude Deveraux',\n",
       "  'http://images.amazon.com/images/P/0743437640.01.MZZZZZZZ.jpg'],\n",
       " ['A Walk to Remember',\n",
       "  'Nicholas Sparks',\n",
       "  'http://images.amazon.com/images/P/0446608955.01.MZZZZZZZ.jpg'],\n",
       " [\"River's End\",\n",
       "  'Nora Roberts',\n",
       "  'http://images.amazon.com/images/P/0515127833.01.MZZZZZZZ.jpg']]"
      ]
     },
     "execution_count": 17,
     "metadata": {},
     "output_type": "execute_result"
    }
   ],
   "source": [
    "recommend('Message in a Bottle')"
   ]
  },
  {
   "cell_type": "markdown",
   "id": "d87128a6",
   "metadata": {},
   "source": [
    "### Exporting files by dumping"
   ]
  },
  {
   "cell_type": "code",
   "execution_count": 18,
   "id": "1e800216",
   "metadata": {},
   "outputs": [],
   "source": [
    "pickle.dump(popularity_df, open('popular.pkl','wb'))\n",
    "pickle.dump(final_rating_df,open('final_rating_df.pkl','wb'))\n",
    "pickle.dump(books,open('books.pkl','wb'))\n",
    "pickle.dump(similarity_scores,open('similarity_scores.pkl','wb'))"
   ]
  }
 ],
 "metadata": {
  "kernelspec": {
   "display_name": "Python 3 (ipykernel)",
   "language": "python",
   "name": "python3"
  },
  "language_info": {
   "codemirror_mode": {
    "name": "ipython",
    "version": 3
   },
   "file_extension": ".py",
   "mimetype": "text/x-python",
   "name": "python",
   "nbconvert_exporter": "python",
   "pygments_lexer": "ipython3",
   "version": "3.9.12"
  }
 },
 "nbformat": 4,
 "nbformat_minor": 5
}
